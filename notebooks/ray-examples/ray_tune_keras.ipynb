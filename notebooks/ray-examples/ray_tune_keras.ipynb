{
 "cells": [
  {
   "cell_type": "code",
   "execution_count": null,
   "id": "ae4a412f-bc84-470a-8c92-24c6ad2ebbe7",
   "metadata": {
    "tags": []
   },
   "outputs": [],
   "source": [
    "import sys\n",
    "sys.path.append(\"/mnt/code\")"
   ]
  },
  {
   "cell_type": "code",
   "execution_count": null,
   "id": "47d86df3-4c72-4f0a-a886-c56ce9c2b0a8",
   "metadata": {
    "tags": []
   },
   "outputs": [],
   "source": [
    "import argparse\n",
    "import os\n",
    "import mlflow\n",
    "import tensorflow\n",
    "from filelock import FileLock\n",
    "from tensorflow.keras.datasets import mnist\n",
    "\n",
    "import ray\n",
    "from ray import train, tune\n",
    "from ray.tune.schedulers import AsyncHyperBandScheduler\n",
    "from ray.air.integrations.keras import ReportCheckpointCallback\n",
    "#from domino_mlflow_utils.keras import ReportCheckpointCallback2\n",
    "from domino_mlflow_utils.mlflow_utilities import DominoMLflowUtilities"
   ]
  },
  {
   "cell_type": "code",
   "execution_count": null,
   "id": "1d41ab95-8c80-498b-86f3-927abf2ed355",
   "metadata": {
    "tags": []
   },
   "outputs": [],
   "source": []
  },
  {
   "cell_type": "code",
   "execution_count": null,
   "id": "d6f444f2-4b23-4a0b-8e6f-bf401d181c50",
   "metadata": {
    "tags": []
   },
   "outputs": [],
   "source": [
    "service_host = os.environ[\"RAY_HEAD_SERVICE_HOST\"]\n",
    "service_port = os.environ[\"RAY_HEAD_SERVICE_PORT\"]\n",
    "print(ray.is_initialized())\n",
    "\n",
    "if not ray.is_initialized():\n",
    "\n",
    "    address=f\"ray://{service_host}:{service_port}\"\n",
    "    temp_dir='/mnt/data/{}/'.format(os.environ['DOMINO_PROJECT_NAME']) #set to a dataset\n",
    "    print(temp_dir)\n",
    "    ray.init(address=address, _temp_dir=temp_dir, runtime_env={\"py_modules\": ['/mnt/code/domino_mlflow_utils']})\n",
    "\n",
    "print('Ray Initializied')\n",
    "print(f'Ray Host={service_host} and Ray Port={service_port}')"
   ]
  },
  {
   "cell_type": "code",
   "execution_count": null,
   "id": "b2b76036-45ed-483f-b249-7a7828d3a24b",
   "metadata": {
    "tags": []
   },
   "outputs": [],
   "source": [
    "experiment_name = 'FRAC-GPU-TEST'+'-' + os.environ['DOMINO_STARTING_USERNAME'] + '-' + os.environ['DOMINO_PROJECT_NAME']\n",
    "mlflow_tracking_uri = os.environ['CLUSTER_MLFLOW_TRACKING_URI']\n",
    "client = mlflow.tracking.MlflowClient()\n",
    "experiment = client.get_experiment_by_name(name=experiment_name)\n",
    "if(experiment is None):\n",
    "    print('Creating experiment ')\n",
    "    client.create_experiment(name=experiment_name)\n",
    "    experiment = client.get_experiment_by_name(name=experiment_name)\n",
    "\n",
    "print(experiment_name)\n",
    "mlflow.set_experiment(experiment_name=experiment_name)\n"
   ]
  },
  {
   "cell_type": "code",
   "execution_count": null,
   "id": "a4c81821-8b4f-4f32-b261-323da3c483b5",
   "metadata": {
    "tags": []
   },
   "outputs": [],
   "source": [
    "from ray.air._internal.mlflow import _MLflowLoggerUtil\n",
    "mlflow_util = _MLflowLoggerUtil()\n",
    "def initialize_run():    \n",
    "    experiment_name = 'FRAC-GPU-TEST'+'-' + os.environ['DOMINO_STARTING_USERNAME'] + '-' + os.environ['DOMINO_PROJECT_NAME']\n",
    "    client = mlflow.tracking.MlflowClient()\n",
    "    mlflow_tracking_uri = os.environ['CLUSTER_MLFLOW_TRACKING_URI']\n",
    "\n",
    "    mlflow_util.setup_mlflow(\n",
    "            tracking_uri=mlflow_tracking_uri,            \n",
    "            experiment_name=experiment_name,\n",
    "        )\n",
    "    now = round(time.time())\n",
    "    now_str=time.strftime(\"%Y-%m-%d %H:%M:%S\", time.gmtime(now))\n",
    "\n",
    "\n",
    "\n",
    "    mlflow_util.start_run(tags={}, run_name=f\"root-{now_str}\")\n",
    "    return run.info.run_id"
   ]
  },
  {
   "cell_type": "code",
   "execution_count": null,
   "id": "a86210d2-b6c9-4e08-b6e4-de5ac860bd03",
   "metadata": {
    "tags": []
   },
   "outputs": [],
   "source": [
    "\n",
    "\n",
    "import tensorflow as tf\n",
    "temp_dir='/mnt/data/{}/'.format(os.environ['DOMINO_PROJECT_NAME']) #set to a dataset\n",
    "experiment_name = 'FRAC-GPU-TEST'+'-' + os.environ['DOMINO_STARTING_USERNAME'] + '-' + os.environ['DOMINO_PROJECT_NAME']\n",
    "client = mlflow.tracking.MlflowClient()\n",
    "mlflow_tracking_uri = os.environ['CLUSTER_MLFLOW_TRACKING_URI']\n",
    "\n",
    "def train_mnist(config):\n",
    "    # https://github.com/tensorflow/tensorflow/issues/32159\n",
    "    \n",
    "\n",
    "    batch_size = 128\n",
    "    num_classes = 10\n",
    "    epochs = 12\n",
    "    parent_run_id = config['parent_run_id']\n",
    "\n",
    "    with FileLock(os.path.expanduser(\"~/.data.lock\")):\n",
    "        (x_train, y_train), (x_test, y_test) = mnist.load_data()\n",
    "    x_train, x_test = x_train / 255.0, x_test / 255.0\n",
    "    model = tf.keras.models.Sequential(\n",
    "        [\n",
    "            tf.keras.layers.Flatten(input_shape=(28, 28)),\n",
    "            tf.keras.layers.Dense(config[\"hidden\"], activation=\"relu\"),\n",
    "            tf.keras.layers.Dropout(0.2),\n",
    "            tf.keras.layers.Dense(num_classes, activation=\"softmax\"),\n",
    "        ]\n",
    "    )\n",
    "\n",
    "    model.compile(\n",
    "        loss=\"sparse_categorical_crossentropy\",\n",
    "        optimizer=tf.keras.optimizers.SGD(lr=config[\"lr\"], momentum=config[\"momentum\"]),\n",
    "        metrics=[\"accuracy\"],\n",
    "    )\n",
    "    #cb = ReportCheckpointCallback2(metrics={\"mean_accuracy\": \"accuracy\"})\n",
    "    \n",
    "    mlflow.tensorflow.autolog()\n",
    "    run_tags={}\n",
    "    run_tags[\"mlflow.parentRunId\"] = parent_run_id\n",
    "    mlflow_utils = DominoMLflowUtilities()    \n",
    "    mlflow_utils.init(experiment_name,config,run_tags=run_tags)\n",
    "\n",
    "    model.fit(\n",
    "            x_train,\n",
    "            y_train,\n",
    "            batch_size=batch_size,\n",
    "            epochs=epochs,\n",
    "            verbose=0,\n",
    "            validation_data=(x_test, y_test),\n",
    "            callbacks=[ReportCheckpointCallback(metrics={\"mean_accuracy\": \"accuracy\"})],\n",
    "        )\n",
    "    mlflow_utils.finish()\n",
    "\n",
    "\n",
    "def tune_mnist(parent_run_id):\n",
    "    sched = AsyncHyperBandScheduler(\n",
    "        time_attr=\"training_iteration\", max_t=400, grace_period=20\n",
    "    )\n",
    "\n",
    "    tuner = tune.Tuner(\n",
    "        tune.with_resources(train_mnist, resources={\"cpu\": 1, \"gpu\": 0}),\n",
    "        tune_config=tune.TuneConfig(\n",
    "            metric=\"mean_accuracy\",\n",
    "            mode=\"max\",\n",
    "            scheduler=sched,\n",
    "            num_samples=10,            \n",
    "        ),\n",
    "        run_config=train.RunConfig(\n",
    "            name=\"exp\",\n",
    "            stop={\"mean_accuracy\": 0.99},\n",
    "            storage_path=temp_dir,\n",
    "        ),\n",
    "        param_space={\n",
    "            \"threads\": 2,\n",
    "            \"lr\": tune.uniform(0.001, 0.1),\n",
    "            \"momentum\": tune.uniform(0.1, 0.9),\n",
    "            \"hidden\": tune.randint(32, 512),\n",
    "            \"parent_run_id\": parent_run_id\n",
    "        },\n",
    "    )\n",
    "    results = tuner.fit()\n",
    "    \n",
    "    print(\"Best hyperparameters found were: \", results.get_best_result().config)\n",
    "   "
   ]
  },
  {
   "cell_type": "code",
   "execution_count": null,
   "id": "267363c7-103f-4eae-8d2e-379de6762220",
   "metadata": {
    "tags": []
   },
   "outputs": [],
   "source": [
    "with mlflow.start_run() as run:\n",
    "    parent_run_id = run.info.run_id\n",
    "    print(parent_run_id)\n",
    "    tune_mnist(parent_run_id)\n"
   ]
  },
  {
   "cell_type": "code",
   "execution_count": null,
   "id": "b61b79dc-b712-4695-b6a9-88ab3ec96547",
   "metadata": {
    "tags": []
   },
   "outputs": [],
   "source": [
    "#!pip install tblib"
   ]
  },
  {
   "cell_type": "code",
   "execution_count": null,
   "id": "12954385-aa8e-4892-a9d4-226e6603c00e",
   "metadata": {},
   "outputs": [],
   "source": []
  },
  {
   "cell_type": "code",
   "execution_count": null,
   "id": "c544e15c-6a09-4915-b576-9462ac6b9ad6",
   "metadata": {},
   "outputs": [],
   "source": []
  }
 ],
 "metadata": {
  "dca-init": "true",
  "kernelspec": {
   "display_name": "Python 3 (ipykernel)",
   "language": "python",
   "name": "python3"
  },
  "language_info": {
   "codemirror_mode": {
    "name": "ipython",
    "version": 3
   },
   "file_extension": ".py",
   "mimetype": "text/x-python",
   "name": "python",
   "nbconvert_exporter": "python",
   "pygments_lexer": "ipython3",
   "version": "3.9.16"
  }
 },
 "nbformat": 4,
 "nbformat_minor": 5
}
