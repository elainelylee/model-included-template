{
 "cells": [
  {
   "cell_type": "code",
   "execution_count": null,
   "id": "f170c1f2-927d-44cf-9fb3-ac27c4c3a464",
   "metadata": {
    "tags": []
   },
   "outputs": [],
   "source": [
    "#!sudo /opt/conda/bin/pip install openai==0.28\n",
    "#!sudo /opt/conda/bin/pip install tiktoken\n",
    "#!sudo /opt/conda/bin/pip install typing_extensions"
   ]
  },
  {
   "cell_type": "code",
   "execution_count": null,
   "id": "c972a351-04b4-40e1-b5d5-7ef68a5505f8",
   "metadata": {},
   "outputs": [],
   "source": [
    "import requests\n",
    "import os\n",
    "body_json = {\n",
    "    \"endpointName\":\"sw-completions\",\n",
    "    \"endpointType\":\"llm/v1/completions\",\n",
    "    \"endpointPermissions\":{\"isEveryoneAllowed\":False,\"userIds\":[\"6283a3966d4fd0362f8ba2a8\"]},\n",
    "    \"modelProvider\":\"openai\",\n",
    "    \"modelName\":\"gpt-4\",\n",
    "    \"modelConfig\":{\"openai_api_key\":\"\"}\n",
    "}\n",
    "my_headers = {\"Content-Type\":\"application/json\",\"X-Domino-Api-Key\":os.environ['DOMINO_USER_API_KEY']}\n",
    "\n",
    "r = requests.post(url=\"https://prod-field.cs.domino.tech/api/aigateway/v1/endpoints\",headers=my_headers,json=body_json)\n",
    "##The above succeeds\n"
   ]
  },
  {
   "cell_type": "code",
   "execution_count": null,
   "id": "ffc8f9cf-57ea-45ed-bd15-1e6fa90e0d01",
   "metadata": {
    "tags": []
   },
   "outputs": [],
   "source": [
    "\n",
    "import requests\n",
    "import os\n",
    "body_json = {   \n",
    "    \"modelName\":\"gpt-4\",\n",
    "    \"modelConfig\":{\"openai_api_key\":\"\"}\n",
    "}\n",
    "my_headers = {\"Content-Type\":\"application/json\",\"X-Domino-Api-Key\":os.environ['DOMINO_USER_API_KEY']}\n",
    "\n",
    "r = requests.patch(url=\"https://prod-field.cs.domino.tech/api/aigateway/v1/endpoints/sw-completions\",headers=my_headers,json=body_json)\n",
    "print(r.text)\n",
    "r.status_code\n",
    "## This fails with status code 400\n",
    "##{\"requestId\":\"93ad6841-9ce1-44ed-b509-88050494f857\",\"errors\":[\"domino.aigateway.implementation.domain.exceptions.GatewayEndpointAlreadyExistsException: AI Gateway endpoint with name sw-completions already exists.\"]}\n"
   ]
  },
  {
   "cell_type": "code",
   "execution_count": null,
   "id": "af7b8d07-07f7-4b01-a960-7ad204503fb8",
   "metadata": {
    "tags": []
   },
   "outputs": [],
   "source": [
    "from mlflow.deployments import get_deploy_client\n",
    "import os\n",
    "os.environ['MLFLOW_DEPLOYMENTS_TARGET'] = 'http://127.0.0.1:8767'\n",
    "client = get_deploy_client(os.environ['MLFLOW_DEPLOYMENTS_TARGET'])\n",
    "\n",
    "response = client.predict(\n",
    "\tendpoint=\"sw-completions\", \n",
    "\tinputs={\"prompt\": \"It's one small step for\",\n",
    "            #\"n\":2, \n",
    "            #\"temperature\":0.5, \n",
    "            #\"max_tokens\":50, \n",
    "            #\"stop\":[]\n",
    "           }\n",
    ")\n",
    "print(response)\n",
    "response = client.predict(\n",
    "\tendpoint=\"sw-completions\", \n",
    "\tinputs={\"prompt\": \"What is mlflow?\"}\n",
    ")\n",
    "print(response)"
   ]
  },
  {
   "cell_type": "code",
   "execution_count": null,
   "id": "108ce1bf-111b-4d8c-9895-ba35a9d06912",
   "metadata": {},
   "outputs": [],
   "source": []
  }
 ],
 "metadata": {
  "dca-init": "true",
  "kernelspec": {
   "display_name": "Python 3 (ipykernel)",
   "language": "python",
   "name": "python3"
  },
  "language_info": {
   "codemirror_mode": {
    "name": "ipython",
    "version": 3
   },
   "file_extension": ".py",
   "mimetype": "text/x-python",
   "name": "python",
   "nbconvert_exporter": "python",
   "pygments_lexer": "ipython3",
   "version": "3.9.16"
  }
 },
 "nbformat": 4,
 "nbformat_minor": 5
}
