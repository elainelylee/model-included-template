{
 "cells": [
  {
   "cell_type": "code",
   "execution_count": null,
   "id": "3483ed8c-cf80-4cd3-b949-f37af5b7074e",
   "metadata": {},
   "outputs": [],
   "source": [
    "import os\n",
    "import sys\n",
    "\n",
    "import mlflow\n",
    "from mlflow.client import MlflowClient\n",
    "from mlflow.models import infer_signature, ModelSignature\n",
    "from mlflow.types import Schema, ColSpec\n",
    "\n",
    "from sklearn.linear_model import LogisticRegression\n",
    "from sklearn.model_selection import train_test_split\n",
    "from sklearn import datasets\n",
    "import pandas as pd"
   ]
  },
  {
   "cell_type": "markdown",
   "id": "3223b548-5473-4257-b163-37e89a19bd5c",
   "metadata": {},
   "source": [
    "### Model Training Phase"
   ]
  },
  {
   "cell_type": "code",
   "execution_count": null,
   "id": "e6648eb5-aff9-498a-b9bd-aa00d4c5351c",
   "metadata": {},
   "outputs": [],
   "source": [
    "# Loading data\n",
    "data = datasets.load_breast_cancer()\n",
    "# Splitting the data into train and test sets\n",
    "X_train, X_test, y_train, y_test = train_test_split(data.data, \n",
    "                                                    data.target,\n",
    "                                                    stratify=data.target)\n",
    "# Instantiating and fitting the model\n",
    "model = LogisticRegression(max_iter=1000)            \n",
    "model.fit(X=X_train, y=y_train)\n"
   ]
  },
  {
   "cell_type": "code",
   "execution_count": null,
   "id": "25c049a3-93d2-40cc-b7d8-8edb0b7fa4ef",
   "metadata": {},
   "outputs": [],
   "source": [
    "# Converting train features into a DataFrame\n",
    "X_train_df = pd.DataFrame(data=X_train, columns=data.feature_names)\n",
    "\n",
    "# Inferring the input signature\n",
    "signature = infer_signature(model_input=X_train_df, \n",
    "                           model_output=model.predict(X_test))\n",
    "signature"
   ]
  },
  {
   "cell_type": "code",
   "execution_count": null,
   "id": "800392af-b7b6-46a0-8531-5046e5700870",
   "metadata": {},
   "outputs": [],
   "source": [
    "# Creating an input schema for the breast cancer dataset\n",
    "input_schema = Schema(inputs=[ColSpec(type=\"double\", name=feature_name) \n",
    "                              for feature_name in data.feature_names])\n",
    "\n",
    "# Creating an output schema for the breast cancer dataset\n",
    "output_schema = Schema(inputs=[ColSpec(\"double\")])\n",
    "\n",
    "#Creating a signature from our schemas\n",
    "signature_manual = ModelSignature(inputs=input_schema, outputs=output_schema)\n",
    "signature_manual"
   ]
  },
  {
   "cell_type": "markdown",
   "id": "941984f4-9c43-44f2-90e6-077f7f38b4eb",
   "metadata": {},
   "source": [
    "### Save the model locally to /tmp/mymodel\n",
    "\n",
    "This is just to show how you can save and run the model locally"
   ]
  },
  {
   "cell_type": "code",
   "execution_count": null,
   "id": "9e92a355-dca9-4ac6-9539-fae173922966",
   "metadata": {},
   "outputs": [],
   "source": [
    "import os\n",
    "import shutil\n",
    "folder_path = \"/tmp/mymodel\"\n",
    "if os.path.exists(folder_path):\n",
    "        if os.path.isdir(folder_path):\n",
    "            shutil.rmtree(folder_path)\n",
    "            \n",
    "# Saving the model. Note the path. This will save the model under /mnt/model\n",
    "input_example = X_train_df.iloc[:1]\n",
    "mlflow.sklearn.save_model(sk_model=model, \n",
    "                          path=folder_path, \n",
    "                          signature=signature,\n",
    "                          input_example=input_example)\n",
    "##Verify that is looks good\n",
    "os.listdir(folder_path)"
   ]
  },
  {
   "cell_type": "markdown",
   "id": "f879eef6-a744-4b09-b42e-c333a1a6a33f",
   "metadata": {},
   "source": [
    "### Review the output\n",
    "\n",
    "Especially take a look at the `requirements.txt` and the yaml files and the `requirements.txt`"
   ]
  },
  {
   "cell_type": "markdown",
   "id": "405b9dca-756c-4459-b58e-a45c3030944a",
   "metadata": {},
   "source": [
    "### Run the locally saved model\n",
    "\n",
    "This is a way all models should be run if you want them to be portable. This is the industry\n",
    "standard MLFLOW based mechanism to load and run models."
   ]
  },
  {
   "cell_type": "code",
   "execution_count": null,
   "id": "8ab9dc0a-afd3-44ea-a0bc-8e1b6ff3374b",
   "metadata": {},
   "outputs": [],
   "source": [
    "#Run the locally saved model\n",
    "import os\n",
    "import pandas as pd\n",
    "def predict(model_uri,features):\n",
    "    loaded_model = mlflow.pyfunc.load_model(model_uri)\n",
    "    return loaded_model.predict(features)\n",
    "cwd = os.getcwd()\n",
    "print(cwd)\n",
    "\n"
   ]
  },
  {
   "cell_type": "code",
   "execution_count": null,
   "id": "8778f713-1686-4b1d-9303-0c3be15d4032",
   "metadata": {},
   "outputs": [],
   "source": [
    "d = pd.read_json(f'{cwd}/client/features.json', orient='records', lines=True)    \n",
    "predict(folder_path,d)"
   ]
  },
  {
   "cell_type": "markdown",
   "id": "d04c323a-3d71-46c4-aa16-634c9b686783",
   "metadata": {},
   "source": [
    "### Now we register this model with Domino Experiment Manager\n",
    "\n",
    "1. Create an experiment with a meaningful name\n",
    "2. Create a registered model name\n",
    "3. Finally register model"
   ]
  },
  {
   "cell_type": "code",
   "execution_count": null,
   "id": "529751e7-a72a-4f87-ba5f-5660333c49be",
   "metadata": {},
   "outputs": [],
   "source": [
    "prefix = 'TUTORIAL-COMPLEX-LOGGGING'\n",
    "starting_user_name = os.environ['DOMINO_STARTING_USERNAME']\n",
    "project_name = os.environ['DOMINO_PROJECT_NAME']\n",
    "\n",
    "experiment_name = f'{prefix}-{starting_user_name}-{project_name}'\n",
    "model_name = f'model-{prefix}-{starting_user_name}-{project_name}'\n",
    "\n",
    "\n",
    "client = MlflowClient()\n",
    "try:\n",
    "    client.create_registered_model(model_name)\n",
    "except:\n",
    "    print('Model already exists')"
   ]
  },
  {
   "cell_type": "markdown",
   "id": "672f4ace-df69-4639-8cdf-b21a1a38de98",
   "metadata": {},
   "source": [
    "## The Most Important Part - Model Registration\n",
    "\n",
    "Pay close attention to not just the models that are being registered. But also the additional files we are choosing to add to the model registry. We can add anything our final image in our \n",
    "final execution environment will need"
   ]
  },
  {
   "cell_type": "code",
   "execution_count": null,
   "id": "45be92f5-fd89-44f1-8f6e-2e4000868e7b",
   "metadata": {},
   "outputs": [],
   "source": [
    "# Saving the model as an artifact in a run\n",
    "from mlflow.store.artifact.runs_artifact_repo import RunsArtifactRepository\n",
    "mlflow.set_experiment(experiment_name)\n",
    "\n",
    "\n",
    "run_id=''\n",
    "##Specify Dependencies implicitly\n",
    "with mlflow.start_run() as run:\n",
    "    # Obtaining the ID of this run\n",
    "    run_id = run.info.run_id\n",
    "    # Logging our model\n",
    "    #model_folder = 'mymodel'\n",
    "    model_folder = ''\n",
    "    model_client_folder = 'client'\n",
    "    model_templates_folder = 'templates'\n",
    "    model_entry_point = 'python'\n",
    "    model_command_line = 'client/execute_model.py'\n",
    "    model_info = mlflow.sklearn.log_model(sk_model=model, \n",
    "                             artifact_path=model_folder,  \n",
    "                             signature=signature,\n",
    "                             input_example=input_example)\n",
    "    ##Note these artifacts being logged.\n",
    "    mlflow.log_artifact(f'{cwd}/client/model.json',model_client_folder)\n",
    "    mlflow.log_artifact(f'{cwd}/client/features.json',model_client_folder)\n",
    "    mlflow.log_artifact(f'{cwd}/client/example_predict.py',model_client_folder)\n",
    "    mlflow.log_artifact(f'{cwd}/client/execute_model.py',model_client_folder)\n",
    "    mlflow.log_artifact(f'{cwd}/templates/Dockerfile.template',model_templates_folder)\n",
    "    mlflow.log_artifact(f'{cwd}/templates/create_docker_image.sh.template',model_templates_folder)\n",
    "\n",
    "'''\n",
    "Tags are a way of passing metadata to the model version client. In our case it will be the \n",
    "external program that will download these model versions and publish images to foundry\n",
    "\n",
    "'''\n",
    "my_tags={}\n",
    "my_tags['MODEL_FOLDER']='mymodel'\n",
    "my_tags['MODEL_CLIENT_FOLDER']='client'\n",
    "my_tags['MODEL_ENTRY_POINT']='python'\n",
    "my_tags['MODEL_EXECUTE_PATH']='client/execute_model.py'\n",
    "\n",
    "model_src = RunsArtifactRepository.get_underlying_uri(f\"runs:/{run_id}/\")\n",
    "mv = client.create_model_version(model_name, model_src, run_id,tags=my_tags)\n",
    "print(\"Name: {}\".format(mv.name))\n",
    "print(\"Version: {}\".format(mv.version))\n",
    "print(\"Description: {}\".format(mv.description))\n",
    "print(\"Status: {}\".format(mv.status))\n",
    "print(\"Stage: {}\".format(mv.current_stage))"
   ]
  },
  {
   "cell_type": "code",
   "execution_count": null,
   "id": "0d9920bb-14c7-4a91-8241-5a568153fc01",
   "metadata": {},
   "outputs": [],
   "source": [
    "## Now fetch the model from model registry"
   ]
  },
  {
   "cell_type": "code",
   "execution_count": null,
   "id": "9a8fe2d0-4d1c-4b10-b2b8-eaf7ead213f0",
   "metadata": {},
   "outputs": [],
   "source": [
    "model_version=4\n",
    "mv = client.get_model_version(model_name, model_version)\n",
    "print('Model Version')\n",
    "print(mv)\n",
    "\n",
    "run_id = mv.run_id\n",
    "print('Model Run Id')\n",
    "print(run_id)\n",
    "model_download_path = f'/tmp/models/{model_name}/v{model_version}'\n",
    "os.makedirs(model_download_path, exist_ok=True)\n",
    "print(f'Model Download Path {model_download_path}')\n",
    "client.download_artifacts(run_id, f\"\", model_download_path)"
   ]
  },
  {
   "cell_type": "code",
   "execution_count": null,
   "id": "577922d1-0bd7-4d9c-a5e6-79b1cb38d9ae",
   "metadata": {},
   "outputs": [],
   "source": [
    "!ls /tmp/models/model-TUTORIAL-COMPLEX-LOGGGING-integration-test-Experiment-Manager-Demos/v1/"
   ]
  },
  {
   "cell_type": "code",
   "execution_count": null,
   "id": "4f0451bb-88d3-4ba8-acff-3bbd36386c19",
   "metadata": {},
   "outputs": [],
   "source": [
    "import string\n",
    "def create_file_from_template(template_string, context, output_file_path):\n",
    "    template = string.Template(template_string)\n",
    "    content = template.safe_substitute(context)\n",
    "    with open(output_file_path, 'w') as file:\n",
    "        file.write(content)"
   ]
  },
  {
   "cell_type": "code",
   "execution_count": null,
   "id": "0203d546-5faa-4062-98f4-c6a07babe63c",
   "metadata": {},
   "outputs": [],
   "source": [
    "templates_folder = 'templates'\n",
    "context = {\n",
    "        'model_name': model_name,\n",
    "        'model_version': model_version,\n",
    "        'model_download_folder': model_download_path,\n",
    "        'model_folder': mv.tags['MODEL_FOLDER'],\n",
    "        'model_client_folder': mv.tags['MODEL_CLIENT_FOLDER'],\n",
    "        'entry_point': mv.tags['MODEL_ENTRY_POINT'],\n",
    "        'command_line': mv.tags['MODEL_EXECUTE_PATH'],\n",
    "}\n",
    "\n",
    "if 'MODEL_TEMPLATES_FOLDER' in context:\n",
    "    templates_folder = context['MODEL_TEMPLATES_FOLDER']\n",
    "with open(f\"{model_download_path}/{templates_folder}/Dockerfile.template\", 'r') as file:\n",
    "    content = file.read()\n",
    "    output_file = f\"{model_download_path}/Dockerfile\"\n",
    "    create_file_from_template(content, context, output_file)\n",
    "with open(f\"{model_download_path}/{templates_folder}/create_docker_image.sh.template\", 'r') as file:\n",
    "    content = file.read()\n",
    "    output_file = f\"{model_download_path}/create_docker_image.sh\"    \n",
    "    create_file_from_template(content, context, output_file)"
   ]
  },
  {
   "cell_type": "code",
   "execution_count": null,
   "id": "67fe5a43-95f8-4287-a55a-28ea1f456ccb",
   "metadata": {},
   "outputs": [],
   "source": [
    "#Re Run the locally retrieved model\n",
    "print(model_download_path)\n",
    "cwd = os.getcwd()\n",
    "d = pd.read_json(f'{cwd}/client/features.json', orient='records', lines=True)    "
   ]
  },
  {
   "cell_type": "code",
   "execution_count": null,
   "id": "723f754f-8982-4d33-aaf3-3be7a17eb6e1",
   "metadata": {},
   "outputs": [],
   "source": [
    "#Re Run the locally retrieved model\n",
    "import os\n",
    "import pandas as pd\n",
    "def predict(model_uri,features):\n",
    "    loaded_model = mlflow.pyfunc.load_model(model_uri)\n",
    "    return loaded_model.predict(features)\n",
    "model_path = f\"{model_download_path}\"\n",
    "d = pd.read_json(f'{model_download_path}/client/features.json', orient='records', lines=True)\n",
    "result = predict(model_path,d)\n",
    "\n",
    "print(\"Model Result\")\n",
    "print(result)\n",
    "\n",
    "print(\"Input Dataset\")\n",
    "print(d)\n",
    "        "
   ]
  },
  {
   "cell_type": "code",
   "execution_count": null,
   "id": "930ac6b8-6484-4d03-bd9b-70a8fa43e526",
   "metadata": {},
   "outputs": [],
   "source": []
  }
 ],
 "metadata": {
  "kernelspec": {
   "display_name": "Python 3 (ipykernel)",
   "language": "python",
   "name": "python3"
  },
  "language_info": {
   "codemirror_mode": {
    "name": "ipython",
    "version": 3
   },
   "file_extension": ".py",
   "mimetype": "text/x-python",
   "name": "python",
   "nbconvert_exporter": "python",
   "pygments_lexer": "ipython3",
   "version": "3.10.14"
  }
 },
 "nbformat": 4,
 "nbformat_minor": 5
}
