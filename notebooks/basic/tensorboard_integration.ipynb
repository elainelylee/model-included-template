{
 "cells": [
  {
   "cell_type": "code",
   "execution_count": null,
   "id": "54b8acb8-29f1-4bc4-b5a4-89da5b9445ab",
   "metadata": {
    "tags": []
   },
   "outputs": [],
   "source": [
    "!sudo /opt/conda/bin/pip install numpy==1.20.0\n",
    "!sudo /opt/conda/bin/pip install tbparse\n"
   ]
  },
  {
   "cell_type": "code",
   "execution_count": null,
   "id": "e135d273-68a6-48ea-b67c-c31bf59ade68",
   "metadata": {
    "tags": []
   },
   "outputs": [],
   "source": [
    "import os\n",
    "import sys\n",
    "sys.path.append(\"/mnt/code\")"
   ]
  },
  {
   "cell_type": "code",
   "execution_count": null,
   "id": "323a43dc-5f97-4118-af3d-201256af0488",
   "metadata": {
    "tags": []
   },
   "outputs": [],
   "source": [
    "# The following import and function call are the only additions to code required\n",
    "# to automatically log metrics and parameters to MLflow.\n",
    "import mlflow\n",
    "from domino_mlflow_utils.mlflow_utilities import *\n",
    "mlflow_utils = DominoMLflowUtilities()"
   ]
  },
  {
   "cell_type": "code",
   "execution_count": null,
   "id": "89483ff9-2f7a-419d-8dcd-60a3cfff7616",
   "metadata": {
    "tags": []
   },
   "outputs": [],
   "source": [
    "prefix = 'TENSORBOARD-SELF-LOGGGING'\n",
    "starting_user_name = os.environ['DOMINO_STARTING_USERNAME']\n",
    "project_name = os.environ['DOMINO_PROJECT_NAME']\n",
    "experiment_name = f'{prefix}-{starting_user_name}-{project_name}'\n",
    "print(experiment_name)"
   ]
  },
  {
   "cell_type": "code",
   "execution_count": null,
   "id": "01dbf33b-0b7c-4b01-b668-3cefbb08ec4c",
   "metadata": {},
   "outputs": [],
   "source": [
    "import os\n",
    "## Apply Autologging for Tensorflow\n",
    "mlflow.tensorflow.autolog()\n",
    "experiment_name= os.environ['DOMINO_PROJECT_NAME'] + \"-mlflow_tensorboard\"\n",
    "mlflow_utils.init(experiment_name)"
   ]
  },
  {
   "cell_type": "code",
   "execution_count": null,
   "id": "402969e1-9f1a-4b7b-b8c5-c0e3dcc7c7be",
   "metadata": {
    "tags": []
   },
   "outputs": [],
   "source": [
    "import os\n",
    "# Don't use GPU\n",
    "#os.environ[\"CUDA_VISIBLE_DEVICES\"] = \"-1\"\n",
    "\"\"\"Trains and evaluate a simple MLP\n",
    "on the Reuters newswire topic classification task.\n",
    "\"\"\"\n",
    "import numpy as np\n",
    "import tensorflow as tf\n",
    "from tensorflow import keras\n",
    "from tensorflow.keras.datasets import reuters\n",
    "from tensorflow.keras.layers import Activation, Dense, Dropout\n",
    "from tensorflow.keras.models import Sequential\n",
    "from tensorflow.keras.preprocessing.text import Tokenizer\n",
    "\n",
    "\n",
    "mnist = tf.keras.datasets.mnist\n",
    "\n",
    "(x_train, y_train),(x_test, y_test) = mnist.load_data()\n",
    "x_train, x_test = x_train / 255.0, x_test / 255.0\n",
    "\n",
    "def create_model():\n",
    "      return tf.keras.models.Sequential([\n",
    "        tf.keras.layers.Flatten(input_shape=(28, 28)),\n",
    "        tf.keras.layers.Dense(512, activation='relu'),\n",
    "        tf.keras.layers.Dropout(0.2),\n",
    "        tf.keras.layers.Dense(10, activation='softmax')\n",
    "      ])\n",
    "\n",
    "model = create_model()\n",
    "model.compile(optimizer='adam',\n",
    "              loss='sparse_categorical_crossentropy',\n",
    "              metrics=['accuracy'])"
   ]
  },
  {
   "cell_type": "code",
   "execution_count": null,
   "id": "9d245e77-b00b-4b4c-9043-1190db4ac9f2",
   "metadata": {
    "tags": []
   },
   "outputs": [],
   "source": [
    "model.fit(x=x_train, \n",
    "          y=y_train, \n",
    "          epochs=5, \n",
    "          validation_data=(x_test, y_test), \n",
    "          callbacks=[tensorboard_callback])\n",
    "\n"
   ]
  },
  {
   "cell_type": "markdown",
   "id": "e1ff01d0-f50f-442a-81da-e4ee27509b68",
   "metadata": {},
   "source": [
    "## Download Tensorboard Logs\n",
    "\n",
    "The next cell demonstrates how to fetch the tensorboard logs for any run for which these logs have been registered.\n",
    "\n",
    "A local tensorboard instance can be used to render these logs. The benefit of this approach is that it can be used to register tensorboard logs for any experiment run and can be downloaded when needed for review. They do not have to be stored in your workspace or repo.\n",
    "\n",
    "You can go to the run artifacts UI to verify the detailed logs.\n",
    "\n"
   ]
  },
  {
   "cell_type": "code",
   "execution_count": null,
   "id": "f211ea7e-e8fd-4c20-a4b0-e51bf570e422",
   "metadata": {
    "tags": []
   },
   "outputs": [],
   "source": [
    "r = mlflow.active_run()\n",
    "run_id=r.info.run_id\n",
    "home_dir = os.path.expanduser('~')\n",
    "download_path=f'{home_dir}/{run_id}'\n",
    "mlflow.artifacts.download_artifacts(run_id=run_id,dst_path=download_path)\n",
    "print(f\"The artifacts for {run_id} will be downloaded to the folder {download_path}\")\n",
    "os.listdir(download_path)"
   ]
  },
  {
   "cell_type": "code",
   "execution_count": null,
   "id": "76a93150-0ed3-46a7-b625-809a7163c9ba",
   "metadata": {},
   "outputs": [],
   "source": [
    "!ls /home/ubuntu/a41887b836b741cf9bae1bc1a1207a41"
   ]
  },
  {
   "cell_type": "code",
   "execution_count": null,
   "id": "092a2981-d12d-4eb6-89e6-205ab83389c2",
   "metadata": {
    "tags": []
   },
   "outputs": [],
   "source": [
    "\n",
    "\n",
    "mlflow_utils.finish()\n"
   ]
  },
  {
   "cell_type": "code",
   "execution_count": null,
   "id": "ef417273-cc0f-48d2-916b-07a6ff0d5e61",
   "metadata": {
    "tags": []
   },
   "outputs": [],
   "source": [
    "!jupyter nbconvert --clear-output --inplace /mnt/code/notebooks/ray-examples/*.ipynb"
   ]
  },
  {
   "cell_type": "code",
   "execution_count": null,
   "id": "ec1f1785-c463-43bc-9856-59b282486271",
   "metadata": {},
   "outputs": [],
   "source": []
  }
 ],
 "metadata": {
  "dca-init": "true",
  "kernelspec": {
   "display_name": "Python 3 (ipykernel)",
   "language": "python",
   "name": "python3"
  },
  "language_info": {
   "codemirror_mode": {
    "name": "ipython",
    "version": 3
   },
   "file_extension": ".py",
   "mimetype": "text/x-python",
   "name": "python",
   "nbconvert_exporter": "python",
   "pygments_lexer": "ipython3",
   "version": "3.10.14"
  }
 },
 "nbformat": 4,
 "nbformat_minor": 5
}
