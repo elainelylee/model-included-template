{
 "cells": [
  {
   "cell_type": "code",
   "execution_count": null,
   "id": "e135d273-68a6-48ea-b67c-c31bf59ade68",
   "metadata": {
    "tags": []
   },
   "outputs": [],
   "source": [
    "import os\n",
    "import sys\n",
    "sys.path.append(\"/mnt/code\")"
   ]
  },
  {
   "cell_type": "code",
   "execution_count": null,
   "id": "323a43dc-5f97-4118-af3d-201256af0488",
   "metadata": {
    "tags": []
   },
   "outputs": [],
   "source": [
    "# The following import and function call are the only additions to code required\n",
    "# to automatically log metrics and parameters to MLflow.\n",
    "import mlflow\n",
    "from domino_mlflow_utils.mlflow_utilities import *\n",
    "mlflow_utils = DominoMLflowUtilities()"
   ]
  },
  {
   "cell_type": "code",
   "execution_count": null,
   "id": "89483ff9-2f7a-419d-8dcd-60a3cfff7616",
   "metadata": {
    "tags": []
   },
   "outputs": [],
   "source": [
    "import os\n",
    "## Apply Autologging for Tensorflow\n",
    "mlflow.tensorflow.autolog()\n",
    "experiment_name= os.environ['DOMINO_PROJECT_NAME'] + \"-mlflow_tensorboard\"\n",
    "mlflow_utils.init(experiment_name)"
   ]
  },
  {
   "cell_type": "code",
   "execution_count": null,
   "id": "402969e1-9f1a-4b7b-b8c5-c0e3dcc7c7be",
   "metadata": {
    "tags": []
   },
   "outputs": [],
   "source": [
    "import os\n",
    "# Don't use GPU\n",
    "#os.environ[\"CUDA_VISIBLE_DEVICES\"] = \"-1\"\n",
    "\"\"\"Trains and evaluate a simple MLP\n",
    "on the Reuters newswire topic classification task.\n",
    "\"\"\"\n",
    "import numpy as np\n",
    "import tensorflow as tf\n",
    "from tensorflow import keras\n",
    "from tensorflow.keras.datasets import reuters\n",
    "from tensorflow.keras.layers import Activation, Dense, Dropout\n",
    "from tensorflow.keras.models import Sequential\n",
    "from tensorflow.keras.preprocessing.text import Tokenizer\n",
    "\n",
    "\n",
    "mnist = tf.keras.datasets.mnist\n",
    "\n",
    "(x_train, y_train),(x_test, y_test) = mnist.load_data()\n",
    "x_train, x_test = x_train / 255.0, x_test / 255.0\n",
    "\n",
    "def create_model():\n",
    "      return tf.keras.models.Sequential([\n",
    "        tf.keras.layers.Flatten(input_shape=(28, 28)),\n",
    "        tf.keras.layers.Dense(512, activation='relu'),\n",
    "        tf.keras.layers.Dropout(0.2),\n",
    "        tf.keras.layers.Dense(10, activation='softmax')\n",
    "      ])\n",
    "\n",
    "model = create_model()\n",
    "model.compile(optimizer='adam',\n",
    "              loss='sparse_categorical_crossentropy',\n",
    "              metrics=['accuracy'])"
   ]
  },
  {
   "cell_type": "code",
   "execution_count": null,
   "id": "9d245e77-b00b-4b4c-9043-1190db4ac9f2",
   "metadata": {
    "tags": []
   },
   "outputs": [],
   "source": [
    "import seaborn as sns\n",
    "import matplotlib.pyplot as plt\n",
    "from tbparse import SummaryReader\n",
    "#reader = SummaryReader(log_dir, extra_columns={'dir_name'})\n",
    "#df = reader.tensors\n",
    "tmpdirs = {}\n",
    "tmpdirs['tensorflow'] = '/tmp/logs-4'\n",
    "log_dir = '/tmp/logs-4'\n",
    "print(log_dir)\n",
    "writer = tf.summary.create_file_writer('/tmp/logs-4')\n",
    "writer.set_as_default()\n",
    "\n",
    "tensorboard_callback = tf.keras.callbacks.TensorBoard(log_dir='/tmp/logs-4',histogram_freq=1,write_graph=False, write_images=False)\n",
    "model.fit(x=x_train, \n",
    "          y=y_train, \n",
    "          epochs=5, \n",
    "          validation_data=(x_test, y_test), \n",
    "          callbacks=[tensorboard_callback])\n",
    "\n"
   ]
  },
  {
   "cell_type": "markdown",
   "id": "e1ff01d0-f50f-442a-81da-e4ee27509b68",
   "metadata": {},
   "source": [
    "## Download Tensorboard Logs\n",
    "\n",
    "The next cell demonstrates how to fetch the tensorboard logs for any run for which these logs have been registered.\n",
    "\n",
    "A local tensorboard instance can be used to render these logs. The benefit of this approach is that it can be used to register tensorboard logs for any experiment run and can be downloaded when needed for review. They do not have to be stored in your workspace or repo.\n",
    "\n",
    "You can go to the run artifacts UI to verify the detailed logs.\n",
    "\n",
    "WANDB shows the following set of additional metrics as compared to MLFLOW. User defined code could provide the same metrics in MLFLOW\n",
    "![WANDB TENSORBOARD METRICS](./images/wandb_tensorflow_metrics.png)"
   ]
  },
  {
   "cell_type": "code",
   "execution_count": null,
   "id": "f211ea7e-e8fd-4c20-a4b0-e51bf570e422",
   "metadata": {
    "tags": []
   },
   "outputs": [],
   "source": [
    "r = mlflow.active_run()\n",
    "run_id=r.info.run_id\n",
    "home_dir = os.path.expanduser('~')\n",
    "download_path=f'{home_dir}/{run_id}'\n",
    "mlflow.artifacts.download_artifacts(run_id=run_id,dst_path=download_path)\n",
    "print(f\"The artifacts for {run_id} will be downloaded to the folder {download_path}\")\n",
    "os.listdir(download_path)"
   ]
  },
  {
   "cell_type": "code",
   "execution_count": null,
   "id": "092a2981-d12d-4eb6-89e6-205ab83389c2",
   "metadata": {
    "tags": []
   },
   "outputs": [],
   "source": [
    "\n",
    "\n",
    "mlflow_utils.finish()\n"
   ]
  },
  {
   "cell_type": "code",
   "execution_count": null,
   "id": "c3a3ff12-1cb9-4e58-97ed-e59132798c1b",
   "metadata": {
    "tags": []
   },
   "outputs": [],
   "source": [
    "import matplotlib\n",
    "import matplotlib.pyplot as plt\n",
    "import pandas as pd\n",
    "from datetime import datetime\n",
    "from collections import defaultdict, namedtuple\n",
    "from typing import List\n",
    "import tensorflow as tf\n",
    "from tensorflow.core.util import event_pb2 \n",
    "\n",
    "TensorBoardImage = namedtuple(\"TensorBoardImage\", [\"topic\", \"image\", \"cnt\"])\n",
    "\n",
    "data = []\n",
    "def extract_images_from_event(event_filename: str, image_tags: List[str]):\n",
    "    step = 0\n",
    "    my_list = {}\n",
    "    \n",
    "    \n",
    "    topic_counter = defaultdict(lambda: 0)\n",
    "\n",
    "    serialized_examples = tf.data.TFRecordDataset(event_filename)\n",
    "    for serialized_example in serialized_examples:\n",
    "        wtimes,steps,actions = [],[],[]\n",
    "        #print(dir(serialized_example))\n",
    "        #print(serialized_example.value_index)\n",
    "        event = event_pb2.Event.FromString(serialized_example.numpy())\n",
    "        #print(type(event.summary))\n",
    "        wtime   = event.wall_time\n",
    "        step    = event.step\n",
    "        \n",
    "        for v in event.summary.value:\n",
    "            #print(v.tag)\n",
    "            if v.tag in image_tags:                                \n",
    "                if v.HasField('histo'):  # event for images using tensor field\n",
    "\n",
    "                    #print(v.tag)                   \n",
    "                    hist = v.histo\n",
    "                    #print(hist)\n",
    "                    wtimes += [wtime]*int(v.histo.num)\n",
    "                    steps  += [step] *int(v.histo.num)\n",
    "                    #print(steps)\n",
    "                    for num,val in zip(v.histo.bucket,v.histo.bucket_limit):\n",
    "                        actions += [val] *int(num)\n",
    "                    my_list[step]={'wtimes':wtimes,'steps':steps,'actions':actions}\n",
    "                    #print(wtimes)\n",
    "                    step = step + 1\n",
    "        \n",
    "    '''\n",
    "    for k,v in my_list.items():\n",
    "        print(k)\n",
    "        print(v)\n",
    "    N_points = 10\n",
    "    n_bins = 5\n",
    "    '''\n",
    "\n",
    "    return my_list\n",
    "\n",
    "def plot_tb(name,my_list):\n",
    "    # Generate two normal distributions\n",
    "    x0 = my_list[0]['actions']\n",
    "    x1 = my_list[1]['actions']\n",
    "    x2 = my_list[2]['actions']\n",
    "    x3 = my_list[3]['actions']\n",
    "    x4 = my_list[4]['actions']\n",
    "    d1 = {'Step0': x0, 'Step1': x1, 'Step2': x2, 'Step3': x3, 'Step4': x4}\n",
    "\n",
    "    df = pd.DataFrame(data=d1)\n",
    "\n",
    "    plt.figure(figsize=(12,5))\n",
    "    plt.xlabel(name)\n",
    "\n",
    "    ax1 = df['Step0'].plot(color='blue', grid=True, label='Step0')\n",
    "    ax2 = df['Step1'].plot(color='green', grid=True,  label='Step1')\n",
    "    ax2 = df['Step2'].plot(color='red', grid=True,  label='Step2')\n",
    "    ax2 = df['Step3'].plot(color='cyan', grid=True,  label='Step3')\n",
    "    ax2 = df['Step4'].plot(color='magenta', grid=True,  label='Step4')\n",
    "\n",
    "\n",
    "    h1, l1 = ax1.get_legend_handles_labels()\n",
    "    #h2, l2 = ax2.get_legend_handles_labels()\n",
    "\n",
    "\n",
    "    plt.legend(h1, l1, loc=2,fancybox=True, framealpha=0.5)\n",
    "    plt.show()\n",
    "\n",
    "                  \n",
    " \n"
   ]
  },
  {
   "cell_type": "code",
   "execution_count": null,
   "id": "8072c9cd-a5d7-471f-a49e-6a5b19fdfa06",
   "metadata": {},
   "outputs": [],
   "source": [
    "p='/tmp/logs-4/train/events.out.tfevents.1709028637.run-65ddada83f0b1c0e070b0856-lj2n4.832.142.v2'\n",
    "tags = ['dense/bias_0','dense/kernel_0','dense_1/bias_0','dense_1/kernel_0']\n",
    "my_list = extract_images_from_event(p,[tags[0]])\n",
    "plot_tb(tags[0],my_list)\n",
    "\n",
    "my_list = extract_images_from_event(p,[tags[1]])\n",
    "plot_tb(tags[1],my_list)\n",
    "\n",
    "my_list = extract_images_from_event(p,[tags[2]])\n",
    "plot_tb(tags[2],my_list)\n",
    "\n",
    "my_list = extract_images_from_event(p,[tags[3]])\n",
    "plot_tb(tags[3],my_list)\n",
    "\n"
   ]
  },
  {
   "cell_type": "code",
   "execution_count": null,
   "id": "ef417273-cc0f-48d2-916b-07a6ff0d5e61",
   "metadata": {},
   "outputs": [],
   "source": [
    "#!jupyter nbconvert --clear-output --inplace notebooks/basic/*.ipynb"
   ]
  },
  {
   "cell_type": "code",
   "execution_count": null,
   "id": "ec1f1785-c463-43bc-9856-59b282486271",
   "metadata": {},
   "outputs": [],
   "source": []
  }
 ],
 "metadata": {
  "dca-init": "true",
  "kernelspec": {
   "display_name": "Python 3 (ipykernel)",
   "language": "python",
   "name": "python3"
  },
  "language_info": {
   "codemirror_mode": {
    "name": "ipython",
    "version": 3
   },
   "file_extension": ".py",
   "mimetype": "text/x-python",
   "name": "python",
   "nbconvert_exporter": "python",
   "pygments_lexer": "ipython3",
   "version": "3.10.14"
  }
 },
 "nbformat": 4,
 "nbformat_minor": 5
}
